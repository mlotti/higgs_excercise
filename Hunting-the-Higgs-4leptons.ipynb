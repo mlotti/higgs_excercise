{
 "cells": [
  {
   "cell_type": "markdown",
   "metadata": {},
   "source": [
    "# Higgs hunting - an example of scientific research"
   ]
  },
  {
   "cell_type": "markdown",
   "metadata": {},
   "source": [
    "This notebook serves as an example of how many areas of science work by taking a look at how the [Higgs boson](https://en.wikipedia.org/wiki/Higgs_boson) was discovered.\n",
    "\n",
    "The data we use here are actual, meaningful data from the CMS experiment that confirmed the existence of this elusive particle, which then resulted in a Nobel prize. Instead of hiding somewhere under ready made graphs, it is now yours to explore. The example is based on the original code in [http://opendata.cern.ch/record/5500] on the CERN Open Data portal (Jomhari, Nur Zulaiha; Geiser, Achim; Bin Anuar, Afiq Aizuddin; (2017). Higgs-to-four-lepton analysis example using 2011-2012 data. CERN Open Data Portal. DOI:10.7483/OPENDATA.CMS.JKB8.RR42), and worked to a notebook by Tom McCauley (University of Notre Dame) and Peitsa Veteli (Helsinki Institute of Physics). \n",
    "\n",
    "The method used is pretty common and useful for many purposes. First we have some theoretical background, then we make measurements and try to see if those measurements contain something that correlates or clashes with our assumptions. Perhaps the results confirm our expectations, bring up new questions to look into, force us to adapt our theories or require entirely new ones to explain them. This cycle then continues time and time again."
   ]
  },
  {
   "cell_type": "code",
   "execution_count": null,
   "metadata": {},
   "outputs": [],
   "source": [
    "import numpy as np\n",
    "import pandas as pd\n",
    "import matplotlib.pyplot as plt\n",
    "\n",
    "%matplotlib inline"
   ]
  },
  {
   "cell_type": "code",
   "execution_count": null,
   "metadata": {},
   "outputs": [],
   "source": [
    "# Data for later use.\n",
    "\n",
    "csvs = [pd.read_csv('../../Data/4mu_2011.csv'), pd.read_csv('../../Data/4e_2011.csv'), pd.read_csv('../../Data/2e2mu_2011.csv')]\n",
    "csvs += [pd.read_csv('../../Data/4mu_2012.csv'), pd.read_csv('../../Data/4e_2012.csv'), pd.read_csv('../../Data/2e2mu_2012.csv')]\n",
    "\n",
    "fourlep = pd.concat(csvs)"
   ]
  },
  {
   "cell_type": "markdown",
   "metadata": {},
   "source": [
    "According to the standard model, one of the ways the Higgs boson can decay is by first creating two Z bosons that then decay further into four leptons (electrons, muons...). It isn't the only process with such a final state, of course, so one has to sift through quite a lot of noise to see that happening. The theory doesn't say too much about what the mass of Higgs could be, but some clever assumptions and enlightened guesses can get you pretty far. For an example, four lepton decay is very dominant in some mass regions, which then guides our search."
   ]
  },
  {
   "cell_type": "code",
   "execution_count": null,
   "metadata": {},
   "outputs": [],
   "source": [
    "# Let's set some values here in regards to the region we're looking at.\n",
    "\n",
    "rmin = 70\n",
    "rmax = 181\n",
    "nbins = 37\n",
    "\n",
    "M_hist = np.histogram(fourlep['M'], bins = nbins, range = (rmin,rmax))\n",
    "\n",
    "hist, bins = M_hist\n",
    "width = 1.0*(bins[1] - bins[0])\n",
    "center = (bins[:-1] + bins[1:]) / 2"
   ]
  },
  {
   "cell_type": "markdown",
   "metadata": {},
   "source": [
    "Let's look at some simulations from other processes there. Here are some [Monte Carlo](https://en.wikipedia.org/wiki/Monte_Carlo_method) -simulated values for such events that have already been weighted by luminosity, cross-section and number of events. Basically we create a set of values that have some randomness in them, just like a real measurement would have, but which follows the distribution that has been observed in those processes."
   ]
  },
  {
   "cell_type": "code",
   "execution_count": null,
   "metadata": {},
   "outputs": [],
   "source": [
    "dy = np.array([0,0,0,0,0,0.354797,0.177398,2.60481,0,0,0,0,0,0,0,0,0,0.177398,0.177398,0,0.177398,0,0,0,0,0,0,0,0,0,0,0,0.177398,0,0,0,0])\n",
    "ttbar = np.array([0.00465086,0,0.00465086,0,0,0,0,0,0,0,0.00465086,0,0,0,0,0,0.00465086,0,0,0,0,0.00465086,0.00465086,0,0,0.0139526,0,0,0.00465086,0,0,0,0.00465086,0.00465086,0.0139526,0,0])\n",
    "zz = np.array([0.181215,0.257161,0.44846,0.830071,1.80272,4.57354,13.9677,14.0178,4.10974,1.58934,0.989974,0.839775,0.887188,0.967021,1.07882,1.27942,1.36681,1.4333,1.45141,1.41572,1.51464,1.45026,1.47328,1.42899,1.38757,1.33561,1.3075,1.29831,1.31402,1.30672,1.36442,1.39256,1.43472,1.58321,1.85313,2.19304,2.95083])\n",
    "hzz = np.array([0.00340992,0.00450225,0.00808944,0.0080008,0.00801578,0.0108945,0.00794274,0.00950757,0.0130648,0.0163568,0.0233832,0.0334813,0.0427229,0.0738129,0.13282,0.256384,0.648352,2.38742,4.87193,0.944299,0.155005,0.0374193,0.0138906,0.00630364,0.00419265,0.00358719,0.00122527,0.000885718,0.000590479,0.000885718,0.000797085,8.86337e-05,0.000501845,8.86337e-05,0.000546162,4.43168e-05,8.86337e-05])\n"
   ]
  },
  {
   "cell_type": "markdown",
   "metadata": {},
   "source": [
    "Let's take a look at those numbers and how they contribute to what we'll measure in the accelerator."
   ]
  },
  {
   "cell_type": "code",
   "execution_count": null,
   "metadata": {},
   "outputs": [],
   "source": [
    "# ZZ, a pair of heavier bosons.\n",
    "\n",
    "plt.figure(figsize = (15,3))\n",
    "plt.bar(center, zz, align = 'center', width = width, color = 'b', linewidth = 0, edgecolor = 'black', alpha = 0.5)\n",
    "\n",
    "plt.xlabel('4l invariant mass (GeV)', fontsize = 15)\n",
    "plt.ylabel('Events / 3 GeV\\n', fontsize = 15)\n",
    "plt.xlim(rmin,rmax)\n",
    "plt.show()"
   ]
  },
  {
   "cell_type": "code",
   "execution_count": null,
   "metadata": {},
   "outputs": [],
   "source": [
    "# DY, some irreducible background from singular Z bosons.\n",
    "\n",
    "plt.figure(figsize = (15,3))\n",
    "plt.bar(center, dy, align = 'center', width = width, color = 'g', linewidth = 0, edgecolor = 'black', alpha = 0.5)\n",
    "\n",
    "plt.xlabel('4l invariant mass (GeV)', fontsize = 15)\n",
    "plt.ylabel('Events / 3 GeV\\n', fontsize = 15)\n",
    "plt.xlim(rmin,rmax)\n",
    "plt.show()"
   ]
  },
  {
   "cell_type": "code",
   "execution_count": null,
   "metadata": {},
   "outputs": [],
   "source": [
    "# ttbar, a pair of top and anti-top quarks.\n",
    "\n",
    "plt.figure(figsize = (15,3))\n",
    "plt.bar(center, ttbar, align = 'center', width = width, color = 'gray', linewidth = 0, edgecolor = 'b', alpha = 0.5)\n",
    "\n",
    "plt.xlabel('4l invariant mass (GeV)', fontsize = 15)\n",
    "plt.ylabel('Events / 3 GeV \\n', fontsize = 15)\n",
    "plt.xlim(rmin,rmax)\n",
    "plt.show()"
   ]
  },
  {
   "cell_type": "markdown",
   "metadata": {},
   "source": [
    "Let's stack them together and see what kind of shape we might expect from the experiment."
   ]
  },
  {
   "cell_type": "code",
   "execution_count": null,
   "metadata": {},
   "outputs": [],
   "source": [
    "plt.figure(figsize = (15,5))\n",
    "\n",
    "# ttbar \n",
    "ttbar_bar = plt.bar(center, ttbar, align = 'center', width = width, color = 'gray', linewidth = 0, edgecolor = 'b',\n",
    "                    alpha = 0.5, label = r'$t\\bar{t}$')\n",
    "\n",
    "# DY\n",
    "dy_bar = plt.bar(center, dy, align = 'center', width = width, color = 'g', linewidth = 0, edgecolor = 'black',\n",
    "                 alpha = 0.5, bottom = ttbar, label = 'Z/$\\gamma^{*}$ + X')\n",
    "\n",
    "# ZZ\n",
    "zz_bar = plt.bar(center, zz, align = 'center', width = width, color = 'b', linewidth = 0, edgecolor = 'black',\n",
    "                 alpha = 0.5, bottom = ttbar+dy, label = r'ZZ $\\rightarrow$ 4l')\n",
    "\n",
    "plt.title('$ \\sqrt{s} = 7$ TeV, L = 2.3 $fb^{-1}$; $\\sqrt{s} = 8$ TeV, L = 11.6 $fb^{-1}$ \\n', fontsize = 12)\n",
    "plt.xlabel('$m_{4l}$ (GeV)', fontsize = 15)\n",
    "plt.ylabel('Events / 3 GeV\\n', fontsize = 15)\n",
    "plt.ylim(0,25)\n",
    "plt.xlim(rmin,rmax)\n",
    "plt.legend(fontsize = 15)\n",
    "\n",
    "plt.show()"
   ]
  },
  {
   "cell_type": "markdown",
   "metadata": {},
   "source": [
    "So there ought to be something around 90 GeV or so, which makes sense as most of this comes from Z bosons. Let's add our measured data on top of that. How well do they line up?"
   ]
  },
  {
   "cell_type": "code",
   "execution_count": null,
   "metadata": {},
   "outputs": [],
   "source": [
    "plt.figure(figsize = (15,5))\n",
    "\n",
    "xerrs = [width*0.5 for i in range(0, nbins)]\n",
    "yerrs = np.sqrt(hist)\n",
    "\n",
    "# ttbar \n",
    "ttbar_bar = plt.bar(center, ttbar, align = 'center', width = width, color = 'gray', linewidth = 0, edgecolor = 'b',\n",
    "                    alpha = 0.5, label = r'$t\\bar{t}$')\n",
    "\n",
    "# DY\n",
    "dy_bar = plt.bar(center, dy, align = 'center', width = width, color = 'g', linewidth = 0, edgecolor = 'black',\n",
    "                 alpha = 0.5, bottom = ttbar, label = 'Z/$\\gamma^{*}$ + X')\n",
    "\n",
    "# ZZ\n",
    "zz_bar = plt.bar(center, zz, align = 'center', width = width, color = 'b', linewidth = 0, edgecolor = 'black',\n",
    "                 alpha = 0.5, bottom = ttbar+dy, label = r'ZZ $\\rightarrow$ 4l')\n",
    "\n",
    "# Measured data\n",
    "data_bar = plt.errorbar(center, hist, xerr = xerrs, yerr = yerrs, linestyle = 'None', color = 'black',\n",
    "                        marker = 'o', label = 'Data')\n",
    "\n",
    "plt.title('$ \\sqrt{s} = 7$ TeV, L = 2.3 $fb^{-1}$; $\\sqrt{s} = 8$ TeV, L = 11.6 $fb^{-1}$ \\n', fontsize = 12)\n",
    "plt.xlabel('$m_{4l}$ (GeV)', fontsize = 15)\n",
    "plt.ylabel('Events / 3 GeV\\n', fontsize = 15)\n",
    "plt.ylim(0,25)\n",
    "plt.xlim(rmin,rmax)\n",
    "plt.legend(fontsize = 15)\n",
    "\n",
    "plt.show()"
   ]
  },
  {
   "cell_type": "markdown",
   "metadata": {},
   "source": [
    "There are clearly some points in there that don't seem to arise from our simulated processes. For comparisons sake the physicists made distribution simulations for Higgs at varying masses, one of which is shown here. This graph shows us what the Higgs boson should look like, if it had a mass of 125 GeV."
   ]
  },
  {
   "cell_type": "code",
   "execution_count": null,
   "metadata": {},
   "outputs": [],
   "source": [
    "# HZZ, our theoretical assumption of a Higgs via two Z bosons.\n",
    "\n",
    "plt.figure(figsize = (15,3))\n",
    "plt.bar(center, hzz, align = 'center', width = width, color = 'w', linewidth = 1, edgecolor = 'r')\n",
    "\n",
    "plt.xlabel('4l invariant mass (GeV)', fontsize = 15)\n",
    "plt.ylabel('Events / 3 GeV\\n', fontsize = 15)\n",
    "plt.xlim(rmin,rmax)\n",
    "plt.show()"
   ]
  },
  {
   "cell_type": "markdown",
   "metadata": {},
   "source": [
    "Bonus question: how can something, that seems to have a mass of roughly 125 GeV decay via two Z bosons, with mass over 90 GeV?\n",
    "\n",
    "Add that in the previous graph and see how it lines up."
   ]
  },
  {
   "cell_type": "code",
   "execution_count": null,
   "metadata": {},
   "outputs": [],
   "source": [
    "plt.figure(figsize = (15,5))\n",
    "\n",
    "# ttbar \n",
    "ttbar_bar = plt.bar(center, ttbar, align = 'center', width = width, color = 'gray', linewidth = 0, edgecolor = 'b',\n",
    "                    alpha = 0.5, label = r'$t\\bar{t}$')\n",
    "\n",
    "# DY\n",
    "dy_bar = plt.bar(center, dy, align = 'center', width = width, color = 'g', linewidth = 0, edgecolor = 'black',\n",
    "                 alpha = 0.5, bottom = ttbar, label = 'Z/$\\gamma^{*}$ + X')\n",
    "\n",
    "# ZZ\n",
    "zz_bar = plt.bar(center, zz, align = 'center', width = width, color = 'b', linewidth = 0, edgecolor = 'black',\n",
    "                 alpha = 0.5, bottom = ttbar+dy, label = r'ZZ $\\rightarrow$ 4l')\n",
    "\n",
    "# HZZ\n",
    "hzz_bar = plt.bar(center, hzz, align = 'center', width = width, color = 'w', linewidth = 1, edgecolor = 'r',\n",
    "                  bottom = ttbar+dy+zz, label = '$m_{H}$ = 125 GeV')\n",
    "\n",
    "# Measured data\n",
    "data_bar = plt.errorbar(center, hist, xerr = xerrs, yerr = yerrs, linestyle = 'None', color = 'black',\n",
    "                        marker = 'o', label = 'Data')\n",
    "\n",
    "plt.title('$ \\sqrt{s} = 7$ TeV, L = 2.3 $fb^{-1}$; $\\sqrt{s} = 8$ TeV, L = 11.6 $fb^{-1}$ \\n', fontsize = 12)\n",
    "plt.xlabel('$m_{4l}$ (GeV)', fontsize = 15)\n",
    "plt.ylabel('Events / 3 GeV\\n', fontsize = 15)\n",
    "plt.ylim(0,25)\n",
    "plt.xlim(rmin,rmax)\n",
    "plt.legend(fontsize = 15)\n",
    "\n",
    "plt.show()"
   ]
  },
  {
   "cell_type": "markdown",
   "metadata": {},
   "source": [
    "This sample seems quite small, and by numerical length it is, but it still gives us an enlightening look at how research is done. There aren't very many processes that produce four leptons at the end, so getting even this many comprises about half the data that is publicly available from the 2011-2012 run. More precise information about the data can be found from [here](http://opendata.cern.ch/record/5500)."
   ]
  },
  {
   "cell_type": "code",
   "execution_count": null,
   "metadata": {},
   "outputs": [],
   "source": [
    "# If we take a look at the data, we can see the properties of all four leptons involved.\n",
    "\n",
    "pd.options.display.max_columns = 50\n",
    "fourlep.head()"
   ]
  },
  {
   "cell_type": "markdown",
   "metadata": {},
   "source": [
    "As we can see, there is certainly some activity going on in the 125 GeV region. This data set is too small to say anything for certain, but it isn't too far off from actual analysis results. The most telling differences mainly rise from our somewhat rough methods compared to the more sophisticated ones used at CMS.\n",
    "<img src = 'https://inspirehep.net/record/1124338/files/H4l_mass_v3.png' align = 'right'>\n"
   ]
  }
 ],
 "metadata": {
  "kernelspec": {
   "display_name": "Python 3",
   "language": "python",
   "name": "python3"
  },
  "language_info": {
   "codemirror_mode": {
    "name": "ipython",
    "version": 3
   },
   "file_extension": ".py",
   "mimetype": "text/x-python",
   "name": "python",
   "nbconvert_exporter": "python",
   "pygments_lexer": "ipython3",
   "version": "3.6.5"
  }
 },
 "nbformat": 4,
 "nbformat_minor": 2
}
